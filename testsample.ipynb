{
 "cells": [
  {
   "cell_type": "code",
   "execution_count": null,
   "id": "0260c4d9",
   "metadata": {},
   "outputs": [],
   "source": [
    "import pandas as pd\n",
    "from selenium import webdriver\n",
    "from selenium.webdriver.common.by import By\n",
    "from selenium.webdriver.chrome.options import Options\n",
    "from selenium.webdriver.support.ui import WebDriverWait\n",
    "from selenium.webdriver.support import expected_conditions as EC\n",
    "from selenium.common.exceptions import TimeoutException\n",
    "\n",
    "# Load the CSV file into a DataFrame\n",
    "csv_file_path = '/Users/dengzixin/Desktop/winter2024/dataAnalytics/project/test.csv'\n",
    "df = pd.read_csv(csv_file_path)\n",
    "\n",
    "chrome_options = Options()\n",
    "#chrome_options.add_argument(\"--headless\")  # Uncomment for headless mode\n",
    "driver = webdriver.Chrome(options=chrome_options)\n",
    "wait = WebDriverWait(driver, 10)  # Initialize WebDriverWait outside the loop\n",
    "\n",
    "def extract_data(xpath, column_prefix, index):\n",
    "    try:\n",
    "        data_row = wait.until(EC.visibility_of_element_located((By.XPATH, xpath)))\n",
    "        data_cells = data_row.find_elements(By.TAG_NAME, \"td\")[1:]  # Skip the first cell\n",
    "        for i, cell in enumerate(data_cells[:5]):\n",
    "            df.at[index, f'{column_prefix}Q{5-i}'] = cell.text\n",
    "        missing_data_count = 5 - len(data_cells)\n",
    "        for i in range(missing_data_count):  # Fill in 'DNE' for missing cells\n",
    "            df.at[index, f'{column_prefix}Q{i+1}'] = 'DNE'\n",
    "    except TimeoutException:\n",
    "        # If a timeout occurs here, it's handled at the row level in the main loop\n",
    "        pass\n",
    "\n",
    "rows_to_drop = []  # Track rows that need to be dropped\n",
    "\n",
    "for index, row in df.iterrows():\n",
    "    try:\n",
    "        driver.get(row['URL'])\n",
    "        # Original data row\n",
    "        extract_data(\"//*[@id='main-content-column']/div/div[4]/div[1]/div[2]/div/div[2]/div/div[1]/table/tbody/tr[2]\", 'sales', index)\n",
    "\n",
    "        # New data rows\n",
    "        extract_data(\"//*[@id='main-content-column']/div/div[4]/div[1]/div[2]/div/div[2]/div/div[1]/table/tbody/tr[4]\", 'netIncome', index)\n",
    "        extract_data(\"//*[@id='main-content-column']/div/div[4]/div[2]/div[2]/div/div[2]/div/div[1]/table/tbody/tr[2]\", 'totalAsset', index)\n",
    "        extract_data(\"//*[@id='main-content-column']/div/div[4]/div[2]/div[2]/div/div[2]/div/div[1]/table/tbody/tr[4]\", 'totalLiabilities', index)\n",
    "        extract_data(\"//*[@id='main-content-column']/div/div[4]/div[3]/div[2]/div/div[2]/div/div[1]/table/tbody/tr[2]\", 'opCashflow', index)\n",
    "        extract_data(\"//*[@id='main-content-column']/div/div[4]/div[3]/div[2]/div/div[2]/div/div[1]/table/tbody/tr[4]\", 'netCashflow', index)\n",
    "\n",
    "    except TimeoutException:\n",
    "        # If a timeout occurs, add the index of the row to drop\n",
    "        rows_to_drop.append(index)\n",
    "        continue\n",
    "\n",
    "# Drop the rows that encountered timeouts\n",
    "df.drop(index=rows_to_drop, inplace=True)\n",
    "\n",
    "driver.quit()\n",
    "\n",
    "# Save the updated DataFrame to a new CSV file\n",
    "output_file_path = '/Users/dengzixin/Desktop/winter2024/dataAnalytics/project/test_result_1001_end.csv'\n",
    "df.to_csv(output_file_path, index=False)\n",
    "\n"
   ]
  },
  {
   "cell_type": "code",
   "execution_count": null,
   "id": "d06d2f2e",
   "metadata": {},
   "outputs": [],
   "source": []
  },
  {
   "cell_type": "code",
   "execution_count": null,
   "id": "730e2f39",
   "metadata": {},
   "outputs": [],
   "source": []
  },
  {
   "cell_type": "code",
   "execution_count": null,
   "id": "f52fd438",
   "metadata": {},
   "outputs": [],
   "source": []
  }
 ],
 "metadata": {
  "kernelspec": {
   "display_name": "Python 3 (ipykernel)",
   "language": "python",
   "name": "python3"
  },
  "language_info": {
   "codemirror_mode": {
    "name": "ipython",
    "version": 3
   },
   "file_extension": ".py",
   "mimetype": "text/x-python",
   "name": "python",
   "nbconvert_exporter": "python",
   "pygments_lexer": "ipython3",
   "version": "3.11.5"
  }
 },
 "nbformat": 4,
 "nbformat_minor": 5
}
